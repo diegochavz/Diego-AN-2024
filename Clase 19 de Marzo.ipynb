{
 "cells": [
  {
   "cell_type": "code",
   "execution_count": 60,
   "id": "alpha-delay",
   "metadata": {
    "scrolled": true
   },
   "outputs": [
    {
     "name": "stdout",
     "output_type": "stream",
     "text": [
      "La función es\n"
     ]
    },
    {
     "data": {
      "text/latex": [
       "$\\displaystyle e^{\\sin{\\left(2 x \\right)}}$"
      ],
      "text/plain": [
       "exp(sin(2*x))"
      ]
     },
     "metadata": {},
     "output_type": "display_data"
    },
    {
     "name": "stdout",
     "output_type": "stream",
     "text": [
      "La derivada analitica es\n"
     ]
    },
    {
     "data": {
      "text/plain": [
       "2.506761534986894"
      ]
     },
     "metadata": {},
     "output_type": "display_data"
    },
    {
     "name": "stdout",
     "output_type": "stream",
     "text": [
      "La diferencia hacia adelante\n"
     ]
    },
    {
     "data": {
      "text/latex": [
       "$\\displaystyle \\frac{- e^{\\sin{\\left(2 x \\right)}} + e^{\\sin{\\left(2 h + 2 x \\right)}}}{h}$"
      ],
      "text/plain": [
       "(-exp(sin(2*x)) + exp(sin(2*h + 2*x)))/h"
      ]
     },
     "metadata": {},
     "output_type": "display_data"
    },
    {
     "name": "stdout",
     "output_type": "stream",
     "text": [
      "La diferencia central\n"
     ]
    },
    {
     "data": {
      "text/latex": [
       "$\\displaystyle \\frac{e^{\\sin{\\left(h + 1.0 \\right)}} - e^{- \\sin{\\left(h - 1.0 \\right)}}}{h}$"
      ],
      "text/plain": [
       "(exp(sin(h + 1.0)) - exp(-sin(h - 1.0)))/h"
      ]
     },
     "metadata": {},
     "output_type": "display_data"
    },
    {
     "name": "stdout",
     "output_type": "stream",
     "text": [
      "Evaluacion de la derivada analitica en x=0.5\n"
     ]
    },
    {
     "data": {
      "text/plain": [
       "2.506761534986894"
      ]
     },
     "metadata": {},
     "output_type": "display_data"
    },
    {
     "name": "stdout",
     "output_type": "stream",
     "text": [
      "////////////////////////////////////////////////////\n",
      "Evaluacion de la diferencia hacia adelante en x=0.5\n",
      "-1.16821398820132 3.67497552318821\n",
      "2.19905707664927 0.307704458337625\n",
      "2.48072561929682 0.0260359156900742\n",
      "2.50420649283711 0.00255504214978064\n",
      "2.50650651689277 0.000255018094123649\n",
      "2.50673603803264 2.54969542519135e-5\n",
      "2.50675898572084 2.54926605780526e-6\n",
      "2.50676127855343 2.56433467349382e-7\n",
      "2.50676155388874 1.89018427576571e-8\n",
      "////////////////////////////////////////////////////\n",
      "Evaluacion de la diferencia central en x=0.5\n",
      "1.48257772801500 1.02418380697189\n",
      "2.49329592551712 0.0134656094697734\n",
      "2.50662648773758 0.000135047249309572\n",
      "2.50676018447482 1.35051207283965e-6\n",
      "2.50676152147911 1.35077877772005e-8\n",
      "2.50676153483731 1.49584344910636e-10\n",
      "2.50676153479290 1.93993265895642e-10\n",
      "2.50676153612517 1.13827436365455e-9\n",
      "2.50676155388874 1.89018427576571e-8\n"
     ]
    },
    {
     "data": {
      "image/png": "[encoded data removed]",
      "text/plain": [
       "<Figure size 720x432 with 1 Axes>"
      ]
     },
     "metadata": {
      "needs_background": "light"
     },
     "output_type": "display_data"
    }
   ],
   "source": [
    "import sympy as sy\n",
    "import numpy as np\n",
    "import matplotlib.pyplot as plt\n",
    "\n",
    "x,h=sy.symbols('x h')\n",
    "\n",
    "def f(x):\n",
    "    return sy.exp(sy.sin(2*x))\n",
    "print ('La función es')\n",
    "display (f(x))\n",
    "\n",
    "#la derivada analitica\n",
    "def g(x):\n",
    "    return np.exp(np.sin(2*x))*2*np.cos(2*x)\n",
    "print ('La derivada analitica es')\n",
    "display (g(0.5))\n",
    "\n",
    "#la diferencia hacia adelante\n",
    "\n",
    "def da(x,h):\n",
    "    return (f(x+h)-f(x))/h\n",
    "print ('La diferencia hacia adelante')\n",
    "display (da(x,h))\n",
    "\n",
    "#la diferencia central\n",
    "\n",
    "#Valores fijos \n",
    "hv=[1,0.1,0.01,0.001,0.0001,0.00001,0.000001,0.0000001,0.00000001]\n",
    "x=0.5\n",
    "eda=[]\n",
    "edc=[]\n",
    "##################################################\n",
    "def dc(x,h):\n",
    "    return ((f(x+(h/2))-f(x-(h/2)))/h)\n",
    "print ('La diferencia central')\n",
    "display (dc(x,h))\n",
    "\n",
    "\n",
    "########################################################\n",
    "print ('Evaluacion de la derivada analitica en x=0.5')\n",
    "display (g(0.5))\n",
    "\n",
    "print('////////////////////////////////////////////////////')\n",
    "\n",
    "print ('Evaluacion de la diferencia hacia adelante en x=0.5')\n",
    "for h in hv:\n",
    "    e=np.abs(da(0.5, h) - g(0.5))\n",
    "    print (da(0.5,h),e)\n",
    "    eda.append(e)\n",
    "print('////////////////////////////////////////////////////')\n",
    "\n",
    "print ('Evaluacion de la diferencia central en x=0.5')\n",
    "for h in hv:\n",
    "    e=np.abs(dc(0.5, h) - g(0.5))\n",
    "    print (dc(0.5,h),e)\n",
    "    edc.append(e)\n",
    "    \n",
    "plt.figure(figsize=(10, 6))\n",
    "plt.loglog(hv, eda, label='Diferencia hacia adelante')\n",
    "plt.loglog(hv, edc, label='Diferencia central')\n",
    "plt.xlabel('h')\n",
    "plt.ylabel('Error')\n",
    "plt.title('Error vs. h')\n",
    "plt.legend()\n",
    "plt.grid(True)\n",
    "plt.show()"
   ]
  },
  {
   "cell_type": "code",
   "execution_count": null,
   "id": "frequent-combination",
   "metadata": {},
   "outputs": [],
   "source": []
  }
 ],
 "metadata": {
  "kernelspec": {
   "display_name": "Python 3",
   "language": "python",
   "name": "python3"
  },
  "language_info": {
   "codemirror_mode": {
    "name": "ipython",
    "version": 3
   },
   "file_extension": ".py",
   "mimetype": "text/x-python",
   "name": "python",
   "nbconvert_exporter": "python",
   "pygments_lexer": "ipython3",
   "version": "3.9.2"
  }
 },
 "nbformat": 4,
 "nbformat_minor": 5
}
