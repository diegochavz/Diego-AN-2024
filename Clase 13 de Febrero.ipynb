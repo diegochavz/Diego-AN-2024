{
 "cells": [
  {
   "cell_type": "code",
   "execution_count": 37,
   "id": "compact-colon",
   "metadata": {},
   "outputs": [
    {
     "name": "stdout",
     "output_type": "stream",
     "text": [
      "n es igual a \n"
     ]
    },
    {
     "data": {
      "text/plain": [
       "40"
      ]
     },
     "metadata": {},
     "output_type": "display_data"
    },
    {
     "name": "stdout",
     "output_type": "stream",
     "text": [
      "y(n) es \n"
     ]
    },
    {
     "data": {
      "text/plain": [
       "217.37438539676836"
      ]
     },
     "metadata": {},
     "output_type": "display_data"
    },
    {
     "name": "stdout",
     "output_type": "stream",
     "text": [
      "el valor analitico es \n"
     ]
    },
    {
     "data": {
      "text/plain": [
       "array([1.00000000e+00, 2.00000000e-01, 4.00000000e-02, 8.00000000e-03,\n",
       "       1.60000000e-03, 3.20000000e-04, 6.40000000e-05, 1.28000000e-05,\n",
       "       2.56000000e-06, 5.12000000e-07, 1.02400000e-07, 2.04800000e-08,\n",
       "       4.09600000e-09, 8.19200000e-10, 1.63840000e-10, 3.27680000e-11,\n",
       "       6.55360000e-12, 1.31072000e-12, 2.62144000e-13, 5.24288000e-14,\n",
       "       1.04857600e-14, 2.09715200e-15, 4.19430400e-16, 8.38860800e-17,\n",
       "       1.67772160e-17, 3.35544320e-18, 6.71088640e-19, 1.34217728e-19,\n",
       "       2.68435456e-20, 5.36870912e-21, 1.07374182e-21, 2.14748365e-22,\n",
       "       4.29496730e-23, 8.58993459e-24, 1.71798692e-24, 3.43597384e-25,\n",
       "       6.87194767e-26, 1.37438953e-26, 2.74877907e-27, 5.49755814e-28,\n",
       "       1.09951163e-28])"
      ]
     },
     "metadata": {},
     "output_type": "display_data"
    },
    {
     "data": {
      "image/png": "[encoded data removed]",
      "text/plain": [
       "<Figure size 432x288 with 1 Axes>"
      ]
     },
     "metadata": {
      "needs_background": "light"
     },
     "output_type": "display_data"
    }
   ],
   "source": [
    "#error de convergencia\n",
    "import numpy as np\n",
    "import sympy as sy\n",
    "import matplotlib.pyplot as plt\n",
    "\n",
    "#variable\n",
    "z=sy.symbols('z')\n",
    "\n",
    "#valor de n\n",
    "n=40\n",
    "\n",
    "#funcion en diferencias\n",
    "y=np.empty(n+1)\n",
    "y[0]=1\n",
    "y[1]=1/5\n",
    "\n",
    "for z in range(2,n+1):\n",
    "    y[z]=16/5*y[z-1]-3/5*y[z-2]\n",
    "\n",
    "#funcion analitica\n",
    "g=np.empty(n+1)\n",
    "\n",
    "for z in range(n+1):\n",
    "    g[z]=(1/5)**z\n",
    "\n",
    "#print\n",
    "print('n es igual a ')\n",
    "display(n)\n",
    "print ('y(n) es ')\n",
    "display (y[n])\n",
    "print ('el valor analitico es ')\n",
    "display (g)\n",
    "\n",
    "#plot\n",
    "X=np.arange(0,n+1)\n",
    "plt.semilogy(X,y,'rx')\n",
    "#semilogy es un plot semilogaritmico\n",
    "#r,b es el color, x,p el tipo de punto\n",
    "plt.semilogy(X,g,'bp')\n",
    "plt.show()"
   ]
  },
  {
   "cell_type": "code",
   "execution_count": 38,
   "id": "advanced-finger",
   "metadata": {},
   "outputs": [
    {
     "data": {
      "text/plain": [
       "array([1.00000000e+00, 2.00000000e-01, 4.00000000e-02, 8.00000000e-03,\n",
       "       1.60000000e-03, 3.20000000e-04, 6.40000000e-05, 1.28000000e-05,\n",
       "       2.56000012e-06, 5.12000352e-07, 1.02401056e-07, 2.04831673e-08,\n",
       "       4.10550196e-09, 8.47705882e-10, 2.49357647e-10, 2.89320942e-10,\n",
       "       7.76212426e-10, 2.31028720e-09, 6.92719158e-09, 2.07808407e-08,\n",
       "       6.23423754e-08, 1.87027097e-07, 5.61081284e-07, 1.68324385e-06,\n",
       "       5.04973156e-06, 1.51491947e-05, 4.54475840e-05, 1.36342752e-04,\n",
       "       4.09028256e-04, 1.22708477e-03, 3.68125430e-03, 1.10437629e-02,\n",
       "       3.31312887e-02, 9.93938662e-02, 2.98181599e-01, 8.94544796e-01,\n",
       "       2.68363439e+00, 8.05090316e+00, 2.41527095e+01, 7.24581285e+01,\n",
       "       2.17374385e+02])"
      ]
     },
     "execution_count": 38,
     "metadata": {},
     "output_type": "execute_result"
    }
   ],
   "source": [
    "y"
   ]
  },
  {
   "cell_type": "code",
   "execution_count": 40,
   "id": "independent-investor",
   "metadata": {},
   "outputs": [
    {
     "name": "stdout",
     "output_type": "stream",
     "text": [
      "Machine parameters for float16\n",
      "---------------------------------------------------------------\n",
      "precision =   3   resolution = 1.00040e-03\n",
      "machep =    -10   eps =        9.76562e-04\n",
      "negep =     -11   epsneg =     4.88281e-04\n",
      "minexp =    -14   tiny =       6.10352e-05\n",
      "maxexp =     16   max =        6.55040e+04\n",
      "nexp =        5   min =        -max\n",
      "smallest_normal = 6.10352e-05   smallest_subnormal = 5.96046e-08\n",
      "---------------------------------------------------------------\n",
      "\n",
      "Machine parameters for float32\n",
      "---------------------------------------------------------------\n",
      "precision =   6   resolution = 1.0000000e-06\n",
      "machep =    -23   eps =        1.1920929e-07\n",
      "negep =     -24   epsneg =     5.9604645e-08\n",
      "minexp =   -126   tiny =       1.1754944e-38\n",
      "maxexp =    128   max =        3.4028235e+38\n",
      "nexp =        8   min =        -max\n",
      "smallest_normal = 1.1754944e-38   smallest_subnormal = 1.4012985e-45\n",
      "---------------------------------------------------------------\n",
      "\n",
      "Machine parameters for float64\n",
      "---------------------------------------------------------------\n",
      "precision =  15   resolution = 1.0000000000000001e-15\n",
      "machep =    -52   eps =        2.2204460492503131e-16\n",
      "negep =     -53   epsneg =     1.1102230246251565e-16\n",
      "minexp =  -1022   tiny =       2.2250738585072014e-308\n",
      "maxexp =   1024   max =        1.7976931348623157e+308\n",
      "nexp =       11   min =        -max\n",
      "smallest_normal = 2.2250738585072014e-308   smallest_subnormal = 4.9406564584124654e-324\n",
      "---------------------------------------------------------------\n",
      "\n",
      "Machine parameters for float128\n",
      "---------------------------------------------------------------\n",
      "precision =  18   resolution = 1e-18\n",
      "machep =    -63   eps =        1.084202172485504434e-19\n",
      "negep =     -64   epsneg =     5.42101086242752217e-20\n",
      "minexp = -16382   tiny =       3.3621031431120935063e-4932\n",
      "maxexp =  16384   max =        1.189731495357231765e+4932\n",
      "nexp =       15   min =        -max\n",
      "smallest_normal = 3.3621031431120935063e-4932   smallest_subnormal = 4e-4951\n",
      "---------------------------------------------------------------\n",
      "\n"
     ]
    }
   ],
   "source": [
    "print(np.finfo(np.float16))\n",
    "print(np.finfo(np.float32))\n",
    "print(np.finfo(np.float64))\n",
    "print(np.finfo(np.float128))"
   ]
  },
  {
   "cell_type": "code",
   "execution_count": null,
   "id": "overall-running",
   "metadata": {},
   "outputs": [],
   "source": []
  }
 ],
 "metadata": {
  "kernelspec": {
   "display_name": "Python 3",
   "language": "python",
   "name": "python3"
  },
  "language_info": {
   "codemirror_mode": {
    "name": "ipython",
    "version": 3
   },
   "file_extension": ".py",
   "mimetype": "text/x-python",
   "name": "python",
   "nbconvert_exporter": "python",
   "pygments_lexer": "ipython3",
   "version": "3.9.2"
  }
 },
 "nbformat": 4,
 "nbformat_minor": 5
}
