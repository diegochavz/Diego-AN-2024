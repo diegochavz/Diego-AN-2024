{
 "cells": [
  {
   "cell_type": "code",
   "execution_count": 56,
   "id": "geographic-mumbai",
   "metadata": {},
   "outputs": [
    {
     "name": "stdout",
     "output_type": "stream",
     "text": [
      "\n",
      "Matriz A\n",
      "[[9 0 9]\n",
      " [2 9 8]\n",
      " [1 9 2]]\n",
      "\n",
      "Matriz de funciones\n",
      "[2 1 3]\n",
      "\n",
      "Print de Variables\n",
      "[x y z]\n",
      "Entonces las nuevas matrices U,G\n"
     ]
    }
   ],
   "source": [
    "import numpy as np\n",
    "import sympy as sy\n",
    "import matplotlib.pyplot as plt\n",
    "\n",
    "x,y,z=sy.symbols('x,y,z')\n",
    "\n",
    "A=np.random.randint(10,size=(3,3))\n",
    "print('\\nMatriz A')\n",
    "print(A)\n",
    "print('\\nMatriz de funciones')\n",
    "F=np.random.randint(10,size=(3))\n",
    "print(F)\n",
    "print ('\\nPrint de Variables')\n",
    "X=np.array([x,y,z])\n",
    "print(X)\n",
    "def gauss(A,F):\n",
    "    U=np.copy(A)\n",
    "    G=np.copy(F)\n",
    "    n=F.size\n",
    "    for j in range (n-1):\n",
    "        for i in range (j+1,n):\n",
    "            m=U[i,j]/U[j,j]\n",
    "            U[i,j:]=U[i,j:]-m*U[j,j:]\n",
    "            G[i]=G[i]-m*G[j]\n",
    "    return U,G\n",
    "\n",
    "def solucionatras(U1,G1):\n",
    "    n=G1.size\n",
    "    X=np.zeros(n)\n",
    "    for i in reversed(range (n)):\n",
    "        X[i]=G1[i]/U1[i,i]-np.dot(U1[i,i+1:],X[i+1:])\n",
    "    return X\n",
    "print('Entonces las nuevas matrices U,G')\n",
    "\n"
   ]
  },
  {
   "cell_type": "code",
   "execution_count": 69,
   "id": "promising-boating",
   "metadata": {},
   "outputs": [
    {
     "data": {
      "text/plain": [
       "(array([[ 9,  0,  9],\n",
       "        [ 0,  9,  6],\n",
       "        [ 0,  0, -5]]),\n",
       " array([2, 0, 2]))"
      ]
     },
     "execution_count": 69,
     "metadata": {},
     "output_type": "execute_result"
    }
   ],
   "source": [
    "gauss(A,F)"
   ]
  },
  {
   "cell_type": "code",
   "execution_count": 70,
   "id": "cheap-personal",
   "metadata": {},
   "outputs": [],
   "source": [
    "U1=gauss(A,F)[0]\n",
    "G1=gauss(A,F)[1]\n",
    "solucionatras(U1,G1)\n",
    "XX=solucionatras(U1,G1)"
   ]
  },
  {
   "cell_type": "code",
   "execution_count": 71,
   "id": "ready-retailer",
   "metadata": {},
   "outputs": [
    {
     "data": {
      "text/plain": [
       "array([28.8       , 25.04444444, 21.62222222])"
      ]
     },
     "execution_count": 71,
     "metadata": {},
     "output_type": "execute_result"
    }
   ],
   "source": [
    "A@XX-F\n",
    "#ESTO DEBE DAR CERO XDXDXDXDXDDXDXDXD"
   ]
  },
  {
   "cell_type": "code",
   "execution_count": null,
   "id": "disciplinary-stress",
   "metadata": {},
   "outputs": [],
   "source": []
  }
 ],
 "metadata": {
  "kernelspec": {
   "display_name": "Python 3",
   "language": "python",
   "name": "python3"
  },
  "language_info": {
   "codemirror_mode": {
    "name": "ipython",
    "version": 3
   },
   "file_extension": ".py",
   "mimetype": "text/x-python",
   "name": "python",
   "nbconvert_exporter": "python",
   "pygments_lexer": "ipython3",
   "version": "3.9.2"
  }
 },
 "nbformat": 4,
 "nbformat_minor": 5
}
