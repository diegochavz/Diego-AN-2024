{
 "cells": [
  {
   "cell_type": "code",
   "execution_count": 61,
   "id": "friendly-castle",
   "metadata": {},
   "outputs": [
    {
     "name": "stdout",
     "output_type": "stream",
     "text": [
      "\n",
      "Matriz A\n",
      "[[38 99 29]\n",
      " [13 81  4]\n",
      " [58 81 82]]\n",
      "\n",
      "Matriz de funciones\n",
      "[[36]\n",
      " [84]\n",
      " [32]]\n",
      "\n",
      "Print de Variables\n",
      "[x y z]\n",
      "\n",
      "A*X\n",
      "[[38*x 99*y 29*z]\n",
      " [13*x 81*y 4*z]\n",
      " [58*x 81*y 82*z]]\n"
     ]
    },
    {
     "data": {
      "text/latex": [
       "$\\displaystyle 38 x + 99 y + 29 z$"
      ],
      "text/plain": [
       "38*x + 99*y + 29*z"
      ]
     },
     "metadata": {},
     "output_type": "display_data"
    },
    {
     "data": {
      "text/latex": [
       "$\\displaystyle 13 x + 81 y + 4 z$"
      ],
      "text/plain": [
       "13*x + 81*y + 4*z"
      ]
     },
     "metadata": {},
     "output_type": "display_data"
    },
    {
     "data": {
      "text/latex": [
       "$\\displaystyle 58 x + 81 y + 82 z$"
      ],
      "text/plain": [
       "58*x + 81*y + 82*z"
      ]
     },
     "metadata": {},
     "output_type": "display_data"
    }
   ],
   "source": [
    "import numpy as np\n",
    "import sympy as sy\n",
    "import matplotlib.pyplot as plt\n",
    "\n",
    "x,y,z=sy.symbols('x,y,z')\n",
    "\n",
    "A=np.random.randint(100,size=(3,3))\n",
    "print('\\nMatriz A')\n",
    "print(A)\n",
    "print('\\nMatriz de funciones')\n",
    "F=np.random.randint(100,size=(3,1))\n",
    "print(F)\n",
    "print ('\\nPrint de Variables')\n",
    "X=np.array([x,y,z])\n",
    "print(X)\n",
    "print('\\nA*X')\n",
    "G=np.array(A*X)\n",
    "print(G)\n",
    "\n",
    "q=A[0,0]*X[0]+A[0,1]*X[1]+A[0,2]*X[2]\n",
    "display(q)\n",
    "w=A[1,0]*X[0]+A[1,1]*X[1]+A[1,2]*X[2]\n",
    "display(w)\n",
    "e=A[2,0]*X[0]+A[2,1]*X[1]+A[2,2]*X[2]\n",
    "display(e)\n",
    "\n",
    "\n"
   ]
  },
  {
   "cell_type": "code",
   "execution_count": 8,
   "id": "surrounded-australian",
   "metadata": {},
   "outputs": [
    {
     "name": "stdout",
     "output_type": "stream",
     "text": [
      "\n",
      "Matriz A\n",
      "[[ 2 24 83]\n",
      " [27 81 87]\n",
      " [54 56 51]]\n",
      "\n",
      "Matriz de funciones\n",
      "[18 24 89]\n",
      "\n",
      "Print de Variables\n",
      "[x y z]\n",
      "\n",
      "A*X\n"
     ]
    }
   ],
   "source": [
    "import numpy as np\n",
    "import sympy as sy\n",
    "import matplotlib.pyplot as plt\n",
    "\n",
    "x,y,z=sy.symbols('x,y,z')\n",
    "\n",
    "A=np.random.randint(100,size=(3,3))\n",
    "print('\\nMatriz A')\n",
    "print(A)\n",
    "print('\\nMatriz de funciones')\n",
    "F=np.random.randint(100,size=(3))\n",
    "print(F)\n",
    "print ('\\nPrint de Variables')\n",
    "X=np.array([x,y,z])\n",
    "print(X)\n",
    "print('\\nA*X')\n",
    "def gauss(A,F):\n",
    "    U=np.copy(A)\n",
    "    G=np.copy(F)\n",
    "    n=F.size\n",
    "    for j in range (n-1):\n",
    "        for i in range (j+1,n):\n",
    "            m=U[i,j]/U[j,j]\n",
    "            U[i,j:]=U[i,j:]-m*U[j,j:]\n",
    "            G[i]=G[i]-m*G[j]\n",
    "    return U,G\n"
   ]
  },
  {
   "cell_type": "code",
   "execution_count": 10,
   "id": "common-margin",
   "metadata": {},
   "outputs": [
    {
     "data": {
      "text/plain": [
       "(array([[    2,    24,    83],\n",
       "        [    0,  -243, -1033],\n",
       "        [    0,     0,   326]]),\n",
       " array([  18, -219,  136]))"
      ]
     },
     "execution_count": 10,
     "metadata": {},
     "output_type": "execute_result"
    }
   ],
   "source": [
    "gauss(A,F)"
   ]
  },
  {
   "cell_type": "code",
   "execution_count": null,
   "id": "industrial-sheep",
   "metadata": {},
   "outputs": [],
   "source": []
  },
  {
   "cell_type": "code",
   "execution_count": null,
   "id": "hawaiian-liability",
   "metadata": {},
   "outputs": [],
   "source": []
  }
 ],
 "metadata": {
  "kernelspec": {
   "display_name": "Python 3",
   "language": "python",
   "name": "python3"
  },
  "language_info": {
   "codemirror_mode": {
    "name": "ipython",
    "version": 3
   },
   "file_extension": ".py",
   "mimetype": "text/x-python",
   "name": "python",
   "nbconvert_exporter": "python",
   "pygments_lexer": "ipython3",
   "version": "3.9.2"
  }
 },
 "nbformat": 4,
 "nbformat_minor": 5
}
