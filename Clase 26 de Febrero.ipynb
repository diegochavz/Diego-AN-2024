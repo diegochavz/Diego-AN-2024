{
 "cells": [
  {
   "cell_type": "code",
   "execution_count": 61,
   "id": "friendly-castle",
   "metadata": {},
   "outputs": [
    {
     "name": "stdout",
     "output_type": "stream",
     "text": [
      "\n",
      "Matriz A\n",
      "[[38 99 29]\n",
      " [13 81  4]\n",
      " [58 81 82]]\n",
      "\n",
      "Matriz de funciones\n",
      "[[36]\n",
      " [84]\n",
      " [32]]\n",
      "\n",
      "Print de Variables\n",
      "[x y z]\n",
      "\n",
      "A*X\n",
      "[[38*x 99*y 29*z]\n",
      " [13*x 81*y 4*z]\n",
      " [58*x 81*y 82*z]]\n"
     ]
    },
    {
     "data": {
      "text/latex": [
       "$\\displaystyle 38 x + 99 y + 29 z$"
      ],
      "text/plain": [
       "38*x + 99*y + 29*z"
      ]
     },
     "metadata": {},
     "output_type": "display_data"
    },
    {
     "data": {
      "text/latex": [
       "$\\displaystyle 13 x + 81 y + 4 z$"
      ],
      "text/plain": [
       "13*x + 81*y + 4*z"
      ]
     },
     "metadata": {},
     "output_type": "display_data"
    },
    {
     "data": {
      "text/latex": [
       "$\\displaystyle 58 x + 81 y + 82 z$"
      ],
      "text/plain": [
       "58*x + 81*y + 82*z"
      ]
     },
     "metadata": {},
     "output_type": "display_data"
    }
   ],
   "source": [
    "import numpy as np\n",
    "import sympy as sy\n",
    "import matplotlib.pyplot as plt\n",
    "\n",
    "x,y,z=sy.symbols('x,y,z')\n",
    "\n",
    "A=np.random.randint(100,size=(3,3))\n",
    "print('\\nMatriz A')\n",
    "print(A)\n",
    "print('\\nMatriz de funciones')\n",
    "F=np.random.randint(100,size=(3,1))\n",
    "print(F)\n",
    "print ('\\nPrint de Variables')\n",
    "X=np.array([x,y,z])\n",
    "print(X)\n",
    "print('\\nA*X')\n",
    "G=np.array(A*X)\n",
    "print(G)\n",
    "\n",
    "q=A[0,0]*X[0]+A[0,1]*X[1]+A[0,2]*X[2]\n",
    "display(q)\n",
    "w=A[1,0]*X[0]+A[1,1]*X[1]+A[1,2]*X[2]\n",
    "display(w)\n",
    "e=A[2,0]*X[0]+A[2,1]*X[1]+A[2,2]*X[2]\n",
    "display(e)\n",
    "\n",
    "\n"
   ]
  },
  {
   "cell_type": "code",
   "execution_count": 72,
   "id": "gothic-acrylic",
   "metadata": {},
   "outputs": [
    {
     "name": "stdout",
     "output_type": "stream",
     "text": [
      "\n",
      "Matriz A\n",
      "[[46 10 19]\n",
      " [ 6 22 89]\n",
      " [35 32 15]]\n",
      "\n",
      "Matriz de funciones\n",
      "[[61]\n",
      " [97]\n",
      " [64]]\n",
      "\n",
      "Print de Variables\n",
      "[x y z]\n",
      "\n",
      "A*X\n"
     ]
    },
    {
     "ename": "ValueError",
     "evalue": "setting an array element with a sequence.",
     "output_type": "error",
     "traceback": [
      "\u001b[0;31m---------------------------------------------------------------------------\u001b[0m",
      "\u001b[0;31mTypeError\u001b[0m                                 Traceback (most recent call last)",
      "\u001b[0;31mTypeError\u001b[0m: only size-1 arrays can be converted to Python scalars",
      "\nThe above exception was the direct cause of the following exception:\n",
      "\u001b[0;31mValueError\u001b[0m                                Traceback (most recent call last)",
      "\u001b[0;32m<ipython-input-72-52318322c229>\u001b[0m in \u001b[0;36m<module>\u001b[0;34m\u001b[0m\n\u001b[1;32m     25\u001b[0m             \u001b[0mG\u001b[0m\u001b[0;34m[\u001b[0m\u001b[0mi\u001b[0m\u001b[0;34m]\u001b[0m\u001b[0;34m=\u001b[0m\u001b[0mG\u001b[0m\u001b[0;34m[\u001b[0m\u001b[0mi\u001b[0m\u001b[0;34m]\u001b[0m\u001b[0;34m-\u001b[0m\u001b[0mm\u001b[0m\u001b[0;34m*\u001b[0m\u001b[0mG\u001b[0m\u001b[0;34m[\u001b[0m\u001b[0mj\u001b[0m\u001b[0;34m]\u001b[0m\u001b[0;34m\u001b[0m\u001b[0;34m\u001b[0m\u001b[0m\n\u001b[1;32m     26\u001b[0m             \u001b[0;32mreturn\u001b[0m \u001b[0mU\u001b[0m\u001b[0;34m,\u001b[0m\u001b[0mG\u001b[0m\u001b[0;34m\u001b[0m\u001b[0;34m\u001b[0m\u001b[0m\n\u001b[0;32m---> 27\u001b[0;31m \u001b[0mgauss\u001b[0m\u001b[0;34m(\u001b[0m\u001b[0mA\u001b[0m\u001b[0;34m,\u001b[0m\u001b[0mF\u001b[0m\u001b[0;34m)\u001b[0m\u001b[0;34m\u001b[0m\u001b[0;34m\u001b[0m\u001b[0m\n\u001b[0m",
      "\u001b[0;32m<ipython-input-72-52318322c229>\u001b[0m in \u001b[0;36mgauss\u001b[0;34m(A, F)\u001b[0m\n\u001b[1;32m     22\u001b[0m         \u001b[0;32mfor\u001b[0m \u001b[0mi\u001b[0m \u001b[0;32min\u001b[0m \u001b[0mrange\u001b[0m \u001b[0;34m(\u001b[0m\u001b[0mj\u001b[0m\u001b[0;34m+\u001b[0m\u001b[0;36m1\u001b[0m\u001b[0;34m,\u001b[0m\u001b[0mn\u001b[0m\u001b[0;34m)\u001b[0m\u001b[0;34m:\u001b[0m\u001b[0;34m\u001b[0m\u001b[0;34m\u001b[0m\u001b[0m\n\u001b[1;32m     23\u001b[0m             \u001b[0mm\u001b[0m\u001b[0;34m=\u001b[0m\u001b[0mU\u001b[0m\u001b[0;34m[\u001b[0m\u001b[0mi\u001b[0m\u001b[0;34m,\u001b[0m\u001b[0mj\u001b[0m\u001b[0;34m]\u001b[0m\u001b[0;34m/\u001b[0m\u001b[0mU\u001b[0m\u001b[0;34m[\u001b[0m\u001b[0mj\u001b[0m\u001b[0;34m,\u001b[0m\u001b[0mj\u001b[0m\u001b[0;34m]\u001b[0m\u001b[0;34m\u001b[0m\u001b[0;34m\u001b[0m\u001b[0m\n\u001b[0;32m---> 24\u001b[0;31m             \u001b[0mU\u001b[0m\u001b[0;34m[\u001b[0m\u001b[0mi\u001b[0m\u001b[0;34m,\u001b[0m\u001b[0mj\u001b[0m\u001b[0;34m]\u001b[0m\u001b[0;34m=\u001b[0m\u001b[0mU\u001b[0m\u001b[0;34m[\u001b[0m\u001b[0mi\u001b[0m\u001b[0;34m,\u001b[0m\u001b[0mj\u001b[0m\u001b[0;34m:\u001b[0m\u001b[0;34m]\u001b[0m\u001b[0;34m-\u001b[0m\u001b[0mm\u001b[0m\u001b[0;34m*\u001b[0m\u001b[0mU\u001b[0m\u001b[0;34m[\u001b[0m\u001b[0mi\u001b[0m\u001b[0;34m,\u001b[0m\u001b[0mj\u001b[0m\u001b[0;34m:\u001b[0m\u001b[0;34m]\u001b[0m\u001b[0;34m\u001b[0m\u001b[0;34m\u001b[0m\u001b[0m\n\u001b[0m\u001b[1;32m     25\u001b[0m             \u001b[0mG\u001b[0m\u001b[0;34m[\u001b[0m\u001b[0mi\u001b[0m\u001b[0;34m]\u001b[0m\u001b[0;34m=\u001b[0m\u001b[0mG\u001b[0m\u001b[0;34m[\u001b[0m\u001b[0mi\u001b[0m\u001b[0;34m]\u001b[0m\u001b[0;34m-\u001b[0m\u001b[0mm\u001b[0m\u001b[0;34m*\u001b[0m\u001b[0mG\u001b[0m\u001b[0;34m[\u001b[0m\u001b[0mj\u001b[0m\u001b[0;34m]\u001b[0m\u001b[0;34m\u001b[0m\u001b[0;34m\u001b[0m\u001b[0m\n\u001b[1;32m     26\u001b[0m             \u001b[0;32mreturn\u001b[0m \u001b[0mU\u001b[0m\u001b[0;34m,\u001b[0m\u001b[0mG\u001b[0m\u001b[0;34m\u001b[0m\u001b[0;34m\u001b[0m\u001b[0m\n",
      "\u001b[0;31mValueError\u001b[0m: setting an array element with a sequence."
     ]
    }
   ],
   "source": [
    "import numpy as np\n",
    "import sympy as sy\n",
    "import matplotlib.pyplot as plt\n",
    "\n",
    "x,y,z=sy.symbols('x,y,z')\n",
    "\n",
    "A=np.random.randint(100,size=(3,3))\n",
    "print('\\nMatriz A')\n",
    "print(A)\n",
    "print('\\nMatriz de funciones')\n",
    "F=np.random.randint(100,size=(3,1))\n",
    "print(F)\n",
    "print ('\\nPrint de Variables')\n",
    "X=np.array([x,y,z])\n",
    "print(X)\n",
    "print('\\nA*X')\n",
    "def gauss(A,F):\n",
    "    U=np.copy(A)\n",
    "    G=np.copy(F)\n",
    "    n=F.size\n",
    "    for j in range (n-1):\n",
    "        for i in range (j+1,n):\n",
    "            m=U[i,j]/U[j,j]\n",
    "            U[i,j]=U[i,j:]-m*U[i,j:]\n",
    "            G[i]=G[i]-m*G[j]\n",
    "            return U,G\n",
    "gauss(A,F)"
   ]
  },
  {
   "cell_type": "code",
   "execution_count": null,
   "id": "ongoing-diesel",
   "metadata": {},
   "outputs": [],
   "source": []
  }
 ],
 "metadata": {
  "kernelspec": {
   "display_name": "Python 3",
   "language": "python",
   "name": "python3"
  },
  "language_info": {
   "codemirror_mode": {
    "name": "ipython",
    "version": 3
   },
   "file_extension": ".py",
   "mimetype": "text/x-python",
   "name": "python",
   "nbconvert_exporter": "python",
   "pygments_lexer": "ipython3",
   "version": "3.9.2"
  }
 },
 "nbformat": 4,
 "nbformat_minor": 5
}
