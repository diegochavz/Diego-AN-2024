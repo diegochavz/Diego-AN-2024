{
 "cells": [
  {
   "cell_type": "code",
   "execution_count": 20,
   "id": "together-stack",
   "metadata": {},
   "outputs": [
    {
     "data": {
      "text/latex": [
       "$\\displaystyle \\frac{\\left(z - 3\\right) \\left(z + 2\\right)}{z - 4}$"
      ],
      "text/plain": [
       "(z - 3)*(z + 2)/(z - 4)"
      ]
     },
     "metadata": {},
     "output_type": "display_data"
    },
    {
     "name": "stdout",
     "output_type": "stream",
     "text": [
      "La funcion evaluada en 6\n"
     ]
    },
    {
     "data": {
      "text/plain": [
       "[6.0, 1.0]"
      ]
     },
     "metadata": {},
     "output_type": "display_data"
    }
   ],
   "source": [
    "import sympy as sy\n",
    "import numpy as np\n",
    "import matplotlib.pyplot as plt\n",
    "\n",
    "x=sy.symbols('x')\n",
    "y=sy.symbols('y')\n",
    "z=sy.symbols('z') \n",
    "\n",
    "def f(z):\n",
    "    return (z+2)*(z-3)*(z-4)**-1\n",
    "display (f(z))\n",
    "\n",
    "def gp(x,y):\n",
    "    return [x[0]*y[0],x[0]*y[1]+x[1]*y[0]]\n",
    "\n",
    "def ginv(z):\n",
    "    return [1/z[0],-z[1]/z[0]**2]\n",
    "\n",
    "def fg(z):\n",
    "    Z=[z,1]\n",
    "    return gp(gp(Z+[2,0],Z+[-3,0]),ginv(Z+[-4,0]))\n",
    "\n",
    "\n",
    "print('La funcion evaluada en 6')\n",
    "display (fg(6))"
   ]
  },
  {
   "cell_type": "code",
   "execution_count": null,
   "id": "becoming-citizenship",
   "metadata": {},
   "outputs": [],
   "source": []
  }
 ],
 "metadata": {
  "kernelspec": {
   "display_name": "Python 3",
   "language": "python",
   "name": "python3"
  },
  "language_info": {
   "codemirror_mode": {
    "name": "ipython",
    "version": 3
   },
   "file_extension": ".py",
   "mimetype": "text/x-python",
   "name": "python",
   "nbconvert_exporter": "python",
   "pygments_lexer": "ipython3",
   "version": "3.9.2"
  }
 },
 "nbformat": 4,
 "nbformat_minor": 5
}
