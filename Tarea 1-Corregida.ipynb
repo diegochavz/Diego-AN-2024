{
 "cells": [
  {
   "cell_type": "code",
   "execution_count": 14,
   "id": "3fc93eb6",
   "metadata": {},
   "outputs": [
    {
     "name": "stdout",
     "output_type": "stream",
     "text": [
      "La función es\n"
     ]
    },
    {
     "data": {
      "text/latex": [
       "$\\displaystyle e^{x}$"
      ],
      "text/plain": [
       "exp(x)"
      ]
     },
     "metadata": {},
     "output_type": "display_data"
    },
    {
     "name": "stdout",
     "output_type": "stream",
     "text": [
      "La serie de Taylor es:\n"
     ]
    },
    {
     "data": {
      "text/latex": [
       "$\\displaystyle 1 + x + \\frac{x^{2}}{2} + \\frac{x^{3}}{6} + \\frac{x^{4}}{24} + \\frac{x^{5}}{120} + \\frac{x^{6}}{720} + \\frac{x^{7}}{5040} + \\frac{x^{8}}{40320} + \\frac{x^{9}}{362880} + \\frac{x^{10}}{3628800} + \\frac{x^{11}}{39916800} + \\frac{x^{12}}{479001600} + \\frac{x^{13}}{6227020800} + \\frac{x^{14}}{87178291200} + O\\left(x^{15}\\right)$"
      ],
      "text/plain": [
       "1 + x + x**2/2 + x**3/6 + x**4/24 + x**5/120 + x**6/720 + x**7/5040 + x**8/40320 + x**9/362880 + x**10/3628800 + x**11/39916800 + x**12/479001600 + x**13/6227020800 + x**14/87178291200 + O(x**15)"
      ]
     },
     "metadata": {},
     "output_type": "display_data"
    },
    {
     "name": "stdout",
     "output_type": "stream",
     "text": [
      "La funcion evaluada en 5 es \n"
     ]
    },
    {
     "data": {
      "text/plain": [
       "148.4131591025766"
      ]
     },
     "metadata": {},
     "output_type": "display_data"
    },
    {
     "name": "stdout",
     "output_type": "stream",
     "text": [
      "La serie evaluada en 5 es\n"
     ]
    },
    {
     "data": {
      "text/plain": [
       "148.37958007973666"
      ]
     },
     "metadata": {},
     "output_type": "display_data"
    },
    {
     "name": "stdout",
     "output_type": "stream",
     "text": [
      "El error es \n"
     ]
    },
    {
     "data": {
      "text/plain": [
       "0.03357902283994463"
      ]
     },
     "metadata": {},
     "output_type": "display_data"
    },
    {
     "name": "stdout",
     "output_type": "stream",
     "text": [
      "error válido\n"
     ]
    },
    {
     "data": {
      "image/png": "[encoded data removed]",
      "text/plain": [
       "<Figure size 640x480 with 1 Axes>"
      ]
     },
     "metadata": {},
     "output_type": "display_data"
    },
    {
     "name": "stdout",
     "output_type": "stream",
     "text": [
      "El orde de la aproximacion es: O(x**15)\n"
     ]
    }
   ],
   "source": [
    "#paqueterias\n",
    "import sympy as sy\n",
    "import numpy as np\n",
    "import matplotlib.pyplot as plt\n",
    "\n",
    "#variables\n",
    "x=sy.symbols('x')\n",
    "\n",
    "#funciones\n",
    "f=sy.exp(x)\n",
    "ff=sy.lambdify(x,f)\n",
    "\n",
    "#aproximacion\n",
    "g=sy.series(f,x,0,15)\n",
    "gg=sy.lambdify(x,g.removeO())\n",
    "\n",
    "#error\n",
    "e=ff(5)-gg(5)\n",
    "\n",
    "#tolerancia\n",
    "t=0.05\n",
    "\n",
    "#orden\n",
    "o=g.getO()\n",
    "\n",
    "\n",
    "#prints\n",
    "print('La función es')\n",
    "display(f)\n",
    "print('La serie de Taylor es:')\n",
    "display(g)\n",
    "print('La funcion evaluada en 5 es ')\n",
    "display (ff(5))\n",
    "print('La serie evaluada en 5 es')\n",
    "display (gg(5))\n",
    "print('El error es ')\n",
    "display(e)\n",
    "\n",
    "#restriccion\n",
    "if abs(e) > t:\n",
    "    print (\"el error es muy grande\")\n",
    "else:\n",
    "    print('error válido')\n",
    "\n",
    "\n",
    "#plots\n",
    "X=np.linspace(0,30)\n",
    "Yf=ff(X)\n",
    "Yg=gg(X)\n",
    "fig,ax=plt.subplots()\n",
    "ax.set_xlabel('x')\n",
    "ax.set_ylabel('y')\n",
    "plt.plot(X,Yf)\n",
    "plt.plot(X,Yg)\n",
    "plt.legend(['Funcion f','S-T de f'])\n",
    "plt.show()\n",
    "print (\"El orden de la aproximacion es:\", o)"
   ]
  },
  {
   "cell_type": "code",
   "execution_count": null,
   "id": "577639b6",
   "metadata": {},
   "outputs": [],
   "source": []
  }
 ],
 "metadata": {
  "kernelspec": {
   "display_name": "Python 3 (ipykernel)",
   "language": "python",
   "name": "python3"
  },
  "language_info": {
   "codemirror_mode": {
    "name": "ipython",
    "version": 3
   },
   "file_extension": ".py",
   "mimetype": "text/x-python",
   "name": "python",
   "nbconvert_exporter": "python",
   "pygments_lexer": "ipython3",
   "version": "3.9.13"
  }
 },
 "nbformat": 4,
 "nbformat_minor": 5
}
