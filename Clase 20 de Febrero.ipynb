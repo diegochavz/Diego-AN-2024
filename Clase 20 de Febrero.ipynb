{
 "cells": [
  {
   "cell_type": "code",
   "execution_count": 1,
   "id": "enabling-optics",
   "metadata": {},
   "outputs": [],
   "source": [
    "#probar los distintos g(x)\n",
    "import sympy as sy\n",
    "import numpy as np\n",
    "import matplotlib.pyplot as plt\n",
    "\n",
    "def g(e,p,x):\n",
    "    return (p-x+e*np.sin(x))\n",
    "\n",
    "def gnrs(e,p,x):\n",
    "    return x+(p-x+e*np.sin(x))/(1-e*np.cos(x))\n",
    "\n",
    "def galt(e,p,x):\n",
    "    return p+e*np.sin(x)\n",
    "\n",
    "def knrs(e,p):\n",
    "    x=0.7\n",
    "    print(x)\n",
    "    while x != gnrs(e,p,x):\n",
    "        x=gnrs(e,p,x)\n",
    "        print(x)\n",
    "    return x\n",
    "\n",
    "def kalt(e,p):\n",
    "    x=0.7\n",
    "    print(x)\n",
    "    while x != galt(e,p,x):\n",
    "        x=galt(e,p,x)\n",
    "        print(x)\n",
    "    return x\n",
    "\n",
    "def nrs(h,x0,e,p):\n",
    "    x=x0\n",
    "    print(x)\n",
    "    while x != g(e,p,x):\n",
    "        x=h(e,p,x)\n",
    "        print(x)\n",
    "    return x\n",
    "#usando e=0.1 y p=1"
   ]
  },
  {
   "cell_type": "code",
   "execution_count": 2,
   "id": "united-shape",
   "metadata": {},
   "outputs": [
    {
     "name": "stdout",
     "output_type": "stream",
     "text": [
      "0.7\n",
      "1.0644217687237691\n",
      "1.0874508626432124\n",
      "1.0885445096306452\n",
      "1.0885952832551493\n",
      "1.0885976378965159\n",
      "1.0885977470881414\n",
      "1.0885977521516654\n",
      "1.0885977523864754\n",
      "1.0885977523973642\n",
      "1.0885977523978692\n",
      "1.0885977523978925\n",
      "1.0885977523978936\n"
     ]
    },
    {
     "data": {
      "text/plain": [
       "1.0885977523978936"
      ]
     },
     "execution_count": 2,
     "metadata": {},
     "output_type": "execute_result"
    }
   ],
   "source": [
    "kalt(0.1,1)"
   ]
  },
  {
   "cell_type": "code",
   "execution_count": 3,
   "id": "accurate-mobility",
   "metadata": {},
   "outputs": [
    {
     "name": "stdout",
     "output_type": "stream",
     "text": [
      "0.7\n",
      "1.0946026436299894\n",
      "1.0885994299920723\n",
      "1.0885977523980244\n",
      "1.0885977523978936\n"
     ]
    },
    {
     "data": {
      "text/plain": [
       "1.0885977523978936"
      ]
     },
     "execution_count": 3,
     "metadata": {},
     "output_type": "execute_result"
    }
   ],
   "source": [
    "knrs(0.1,1)"
   ]
  },
  {
   "cell_type": "code",
   "execution_count": null,
   "id": "recovered-increase",
   "metadata": {},
   "outputs": [],
   "source": []
  }
 ],
 "metadata": {
  "kernelspec": {
   "display_name": "Python 3",
   "language": "python",
   "name": "python3"
  },
  "language_info": {
   "codemirror_mode": {
    "name": "ipython",
    "version": 3
   },
   "file_extension": ".py",
   "mimetype": "text/x-python",
   "name": "python",
   "nbconvert_exporter": "python",
   "pygments_lexer": "ipython3",
   "version": "3.9.2"
  }
 },
 "nbformat": 4,
 "nbformat_minor": 5
}
