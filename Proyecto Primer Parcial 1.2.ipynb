{
 "cells": [
  {
   "cell_type": "code",
   "execution_count": null,
   "id": "777e0fcb",
   "metadata": {},
   "outputs": [],
   "source": [
    "import sympy as sy\n",
    "import numpy as np\n",
    "import matplotlib.pyplot as plt\n",
    "\n",
    "#Variable\n",
    "c=sy.symbols('c')\n",
    "\n",
    "#Nuestras condiciones iniciales serian\n",
    "h=5\n",
    "d=15\n",
    "g=9.8\n",
    "#Donde nuestro punto de inicio es (0,0) y nuestro punto final es (d,-h), g es el valor de la gravedad\n",
    "\n",
    "#Funcion que necesitamos resolver para c para poder describir nuestra curva\n",
    "def bra(c):\n",
    "    return sy.acos(1-4*h*g*c**2*h)-2*c*(sy.sqrt(2*g*h*(1-2*g*c**2*h)+2*g*c*d))\n",
    "display(bra(c))\n",
    "U=bra(c)\n",
    "#necesitamos la derivada de nuestra ecuacion para aplicar el metodo\n",
    "print ('La derivada de nuestra funcion')\n",
    "Y=sy.diff(bra(c),c)\n",
    "display (Y)\n",
    "\n",
    "#Necesito definir un x_0 para poder usar N-R\n",
    "#dado que con nuestras condiciones no podemos definir un valor inicial para c, proponemos uno\n",
    "c1=0.1\n",
    "\n",
    "#definimos nuestro numero maximo de iteraciones y una tolerancia\n",
    "n=100\n",
    "t=0.01\n",
    "\n",
    "#implementamos Newton-Rhapson\n",
    "c0=c1\n",
    "for i in range (n):\n",
    "    c0=c0-bra(c0)/Y(c0)\n",
    "if abs(brac(c0))<t:\n",
    "    break\n",
    "print('La solución para c es:', c0)\n",
    "#plot de bra"
   ]
  },
  {
   "cell_type": "code",
   "execution_count": null,
   "id": "41aab0b4",
   "metadata": {},
   "outputs": [],
   "source": []
  }
 ],
 "metadata": {
  "kernelspec": {
   "display_name": "Python 3 (ipykernel)",
   "language": "python",
   "name": "python3"
  },
  "language_info": {
   "codemirror_mode": {
    "name": "ipython",
    "version": 3
   },
   "file_extension": ".py",
   "mimetype": "text/x-python",
   "name": "python",
   "nbconvert_exporter": "python",
   "pygments_lexer": "ipython3",
   "version": "3.9.13"
  }
 },
 "nbformat": 4,
 "nbformat_minor": 5
}
