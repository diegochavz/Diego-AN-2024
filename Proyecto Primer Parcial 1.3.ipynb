{
 "cells": [
  {
   "cell_type": "code",
   "execution_count": 38,
   "id": "satisfactory-tomorrow",
   "metadata": {
    "scrolled": true
   },
   "outputs": [
    {
     "name": "stdout",
     "output_type": "stream",
     "text": [
      "Nuestra función es:\n"
     ]
    },
    {
     "data": {
      "text/latex": [
       "$\\displaystyle - 196.0 c \\sqrt{- c^{2} + 0.0306122448979592 c + 0.0102040816326531} + \\operatorname{acos}{\\left(1 - 980.0 c^{2} \\right)}$"
      ],
      "text/plain": [
       "-196.0*c*sqrt(-c**2 + 0.0306122448979592*c + 0.0102040816326531) + acos(1 - 980.0*c**2)"
      ]
     },
     "metadata": {},
     "output_type": "display_data"
    },
    {
     "name": "stdout",
     "output_type": "stream",
     "text": [
      "La derivada de nuestra funcion\n"
     ]
    },
    {
     "data": {
      "text/latex": [
       "$\\displaystyle - \\frac{196.0 c \\left(0.0153061224489796 - c\\right)}{\\sqrt{- c^{2} + 0.0306122448979592 c + 0.0102040816326531}} + \\frac{2.0 c}{\\sqrt{1.04123281965848 \\cdot 10^{-6} - \\left(0.00102040816326531 - c^{2}\\right)^{2}}} - 196.0 \\sqrt{- c^{2} + 0.0306122448979592 c + 0.0102040816326531}$"
      ],
      "text/plain": [
       "-196.0*c*(0.0153061224489796 - c)/sqrt(-c**2 + 0.0306122448979592*c + 0.0102040816326531) + 2.0*c/sqrt(1.04123281965848e-6 - (0.00102040816326531 - c**2)**2) - 196.0*sqrt(-c**2 + 0.0306122448979592*c + 0.0102040816326531)"
      ]
     },
     "metadata": {},
     "output_type": "display_data"
    },
    {
     "name": "stdout",
     "output_type": "stream",
     "text": [
      "La solución aproximada para c es: -1.17614814706631e-8\n"
     ]
    },
    {
     "data": {
      "text/latex": [
       "$\\displaystyle 7.53553899047736 \\cdot 10^{-7}$"
      ],
      "text/plain": [
       "7.53553899047736e-7"
      ]
     },
     "metadata": {},
     "output_type": "display_data"
    }
   ],
   "source": [
    "import sympy as sy\n",
    "import numpy as np\n",
    "import matplotlib.pyplot as plt\n",
    "\n",
    "#Variable\n",
    "c=sy.symbols('c')\n",
    "\n",
    "#Nuestras condiciones iniciales serian\n",
    "h=5\n",
    "d=15\n",
    "g=9.8\n",
    "#Donde nuestro punto de inicio es (0,0) y nuestro punto final es (d,-h), g es el valor de la gravedad\n",
    "\n",
    "#Funcion que necesitamos resolver para c para poder describir nuestra curva\n",
    "def bra(c):\n",
    "    return sy.acos(1-4*h*g*c**2*h)-2*c*(sy.sqrt(2*g*h*(1-2*g*c**2*h)+2*g*c*d))\n",
    "print ('Nuestra función es:')\n",
    "display(bra(c))\n",
    "U=bra(c)\n",
    "#necesitamos la derivada de nuestra ecuacion para aplicar el metodo\n",
    "print ('La derivada de nuestra funcion')\n",
    "Y=sy.diff(bra(c),c)\n",
    "display(Y)\n",
    "\n",
    "#Necesito definir un x_0 para poder usar N-R\n",
    "#dado que con nuestras condiciones no podemos definir un valor inicial para c, proponemos uno\n",
    "c0=0.0001\n",
    "\n",
    "#definimos una tolerancia porque queremos que el error sea  minimo\n",
    "t=0.001\n",
    "\n",
    "#implementamos Newton-Rhapson\n",
    "while True:\n",
    "    c1 = c0 - bra(c0) / Y.subs(c, c0)\n",
    "    if abs(c1 - c0) < t:\n",
    "        break\n",
    "        c0 = c1\n",
    "\n",
    "print(\"La solución aproximada para c es:\", c1)\n",
    "display(bra(c1))\n",
    "#-196c*sqrt(-c²+0.00306122448979592c+0.0102040816326531)+acos(1-980.0c²)"
   ]
  },
  {
   "cell_type": "code",
   "execution_count": 27,
   "id": "similar-display",
   "metadata": {},
   "outputs": [],
   "source": [
    "#ploteo\n",
    "#c=np.linspace(0,3)\n",
    "#y=bra(c)\n",
    "#plt.plot(c,y)\n",
    "#plt.xlabel('c')\n",
    "#plt.ylabel('bra(c)')\n",
    "#plt.show()"
   ]
  },
  {
   "cell_type": "code",
   "execution_count": null,
   "id": "clinical-bowling",
   "metadata": {},
   "outputs": [],
   "source": []
  }
 ],
 "metadata": {
  "kernelspec": {
   "display_name": "Python 3",
   "language": "python",
   "name": "python3"
  },
  "language_info": {
   "codemirror_mode": {
    "name": "ipython",
    "version": 3
   },
   "file_extension": ".py",
   "mimetype": "text/x-python",
   "name": "python",
   "nbconvert_exporter": "python",
   "pygments_lexer": "ipython3",
   "version": "3.9.2"
  }
 },
 "nbformat": 4,
 "nbformat_minor": 5
}
