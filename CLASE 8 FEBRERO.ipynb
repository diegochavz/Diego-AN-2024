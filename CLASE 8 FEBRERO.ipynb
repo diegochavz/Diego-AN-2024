{
 "cells": [
  {
   "cell_type": "code",
   "execution_count": 1,
   "id": "flexible-projector",
   "metadata": {},
   "outputs": [
    {
     "data": {
      "text/plain": [
       "0.9999999999999561"
      ]
     },
     "execution_count": 1,
     "metadata": {},
     "output_type": "execute_result"
    }
   ],
   "source": [
    "def iternum(n):\n",
    "    result=1\n",
    "    \n",
    "    for i in range(n):\n",
    "        result +=0.1\n",
    "    \n",
    "    for i in range(n):\n",
    "        result-=0.1\n",
    "    \n",
    "    return result\n",
    "\n",
    "iternum(10000)"
   ]
  },
  {
   "cell_type": "code",
   "execution_count": 2,
   "id": "intellectual-favorite",
   "metadata": {},
   "outputs": [
    {
     "name": "stdout",
     "output_type": "stream",
     "text": [
      "Expected Result: 1.0\n",
      "Actual Resut: 0.9999999999999999\n"
     ]
    }
   ],
   "source": [
    "total = 0.0\n",
    "for i in range(10):\n",
    "    total += 0.1\n",
    "print(f\"Expected Result: 1.0\\nActual Resut: {total}\")"
   ]
  },
  {
   "cell_type": "code",
   "execution_count": 3,
   "id": "pleased-belarus",
   "metadata": {},
   "outputs": [
    {
     "name": "stdout",
     "output_type": "stream",
     "text": [
      "Expected Result: 1.0\n",
      "Actual Resut: -0.9999999999999999\n"
     ]
    }
   ],
   "source": [
    "total = 0.0\n",
    "for i in range(10):\n",
    "    total -= 0.1\n",
    "print(f\"Expected Result: 1.0\\nActual Resut: {total}\")"
   ]
  },
  {
   "cell_type": "code",
   "execution_count": 4,
   "id": "computational-france",
   "metadata": {},
   "outputs": [
    {
     "data": {
      "text/plain": [
       "1.0000000000001166"
      ]
     },
     "execution_count": 4,
     "metadata": {},
     "output_type": "execute_result"
    }
   ],
   "source": [
    "def iternum(n):\n",
    "    result = 1\n",
    "    \n",
    "    for i in range(n):\n",
    "        result += 1/3\n",
    "        \n",
    "    for i in range(n):\n",
    "        result -= 1/3\n",
    "    \n",
    "    return result\n",
    "iternum(10000)\n"
   ]
  },
  {
   "cell_type": "code",
   "execution_count": 5,
   "id": "italian-nature",
   "metadata": {},
   "outputs": [
    {
     "data": {
      "text/plain": [
       "False"
      ]
     },
     "execution_count": 5,
     "metadata": {},
     "output_type": "execute_result"
    }
   ],
   "source": [
    "0.3==0.1+0.1+0.1"
   ]
  },
  {
   "cell_type": "code",
   "execution_count": null,
   "id": "fiscal-infection",
   "metadata": {},
   "outputs": [],
   "source": []
  },
  {
   "cell_type": "code",
   "execution_count": null,
   "id": "filled-beauty",
   "metadata": {},
   "outputs": [],
   "source": []
  }
 ],
 "metadata": {
  "kernelspec": {
   "display_name": "Python 3",
   "language": "python",
   "name": "python3"
  },
  "language_info": {
   "codemirror_mode": {
    "name": "ipython",
    "version": 3
   },
   "file_extension": ".py",
   "mimetype": "text/x-python",
   "name": "python",
   "nbconvert_exporter": "python",
   "pygments_lexer": "ipython3",
   "version": "3.9.2"
  }
 },
 "nbformat": 4,
 "nbformat_minor": 5
}
