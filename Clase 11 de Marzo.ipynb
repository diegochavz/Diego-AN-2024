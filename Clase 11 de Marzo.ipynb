{
 "cells": [
  {
   "cell_type": "code",
   "execution_count": 14,
   "id": "hearing-williams",
   "metadata": {},
   "outputs": [
    {
     "name": "stdout",
     "output_type": "stream",
     "text": [
      "\n",
      "Matriz A\n",
      "[[7 9 0]\n",
      " [4 8 4]\n",
      " [5 2 8]]\n",
      "Lower Triangular\t\tUpper Triangular\n",
      "1\t0\t0\t\t7\t9\t0\t\n",
      "0\t1\t0\t\t0\t8\t4\t\n",
      "0\t0\t1\t\t0\t0\t8\t\n"
     ]
    }
   ],
   "source": [
    "#dolittle factorixation\n",
    "import sympy as sy\n",
    "import numpy as np\n",
    "import matplotlib.pyplot as plt\n",
    "\n",
    "def luDecomposition(A, n):\n",
    " \n",
    "    lower = [[0 for x in range(n)]\n",
    "             for y in range(n)]\n",
    "    upper = [[0 for x in range(n)]\n",
    "             for y in range(n)]\n",
    " \n",
    "    # Decomposing matrix into Upper\n",
    "    # and Lower triangular matrix\n",
    "    for i in range(n):\n",
    " \n",
    "        #Triangular Superior\n",
    "        for k in range(i, n):\n",
    " \n",
    "            # Summation of L(i, j) * U(j, k)\n",
    "            sum = 0\n",
    "            for j in range(i):\n",
    "                sum += (lower[i][j] * upper[j][k])\n",
    " \n",
    "            # Evaluating U(i, k)\n",
    "            upper[i][k] = A[i][k] - sum\n",
    " \n",
    "        # Lower Triangular\n",
    "        for k in range(i, n):\n",
    "            if (i == k):\n",
    "                lower[i][i] = 1  # Diagonal as 1\n",
    "            else:\n",
    " \n",
    "                # Summation of L(k, j) * U(j, i)\n",
    "                sum = 0\n",
    "                for j in range(i):\n",
    "                    sum += (lower[k][j] * upper[j][i])\n",
    " \n",
    "                # Evaluating L(k, i)\n",
    "                lower[k][i] = int((A[k][i] - sum) /\n",
    "                                  upper[i][i])\n",
    " \n",
    "    # setw is for displaying nicely\n",
    "    print(\"Lower Triangular\\t\\tUpper Triangular\")\n",
    " \n",
    "    # Displaying the result :\n",
    "    for i in range(n):\n",
    " \n",
    "        # Lower\n",
    "        for j in range(n):\n",
    "            print(lower[i][j], end=\"\\t\")\n",
    "        print(\"\", end=\"\\t\")\n",
    " \n",
    "        # Upper\n",
    "        for j in range(n):\n",
    "            print(upper[i][j], end=\"\\t\")\n",
    "        print(\"\")\n",
    "\n",
    "A=np.random.randint(10,size=(3,3))\n",
    "print('\\nMatriz A')\n",
    "print(A)\n",
    " \n",
    "luDecomposition(A, 3)"
   ]
  },
  {
   "cell_type": "code",
   "execution_count": null,
   "id": "christian-fancy",
   "metadata": {},
   "outputs": [],
   "source": []
  }
 ],
 "metadata": {
  "kernelspec": {
   "display_name": "Python 3",
   "language": "python",
   "name": "python3"
  },
  "language_info": {
   "codemirror_mode": {
    "name": "ipython",
    "version": 3
   },
   "file_extension": ".py",
   "mimetype": "text/x-python",
   "name": "python",
   "nbconvert_exporter": "python",
   "pygments_lexer": "ipython3",
   "version": "3.9.2"
  }
 },
 "nbformat": 4,
 "nbformat_minor": 5
}
