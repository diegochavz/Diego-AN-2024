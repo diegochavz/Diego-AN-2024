{
 "cells": [
  {
   "cell_type": "code",
   "execution_count": 67,
   "id": "thousand-vessel",
   "metadata": {},
   "outputs": [
    {
     "name": "stdout",
     "output_type": "stream",
     "text": [
      "Funcion:\n"
     ]
    },
    {
     "data": {
      "text/latex": [
       "$\\displaystyle \\sin{\\left(x \\right)}$"
      ],
      "text/plain": [
       "sin(x)"
      ]
     },
     "metadata": {},
     "output_type": "display_data"
    },
    {
     "name": "stdout",
     "output_type": "stream",
     "text": [
      "Serie de Taylor:\n"
     ]
    },
    {
     "data": {
      "text/latex": [
       "$\\displaystyle x - \\frac{x^{3}}{6} + O\\left(x^{5}\\right)$"
      ],
      "text/plain": [
       "x - x**3/6 + O(x**5)"
      ]
     },
     "metadata": {},
     "output_type": "display_data"
    },
    {
     "name": "stdout",
     "output_type": "stream",
     "text": [
      "Pura O\n"
     ]
    },
    {
     "data": {
      "text/latex": [
       "$\\displaystyle O\\left(x^{5}\\right)$"
      ],
      "text/plain": [
       "O(x**5)"
      ]
     },
     "metadata": {},
     "output_type": "display_data"
    },
    {
     "name": "stdout",
     "output_type": "stream",
     "text": [
      "Funcion sin O\n"
     ]
    },
    {
     "data": {
      "text/latex": [
       "$\\displaystyle - \\frac{x^{3}}{6} + x$"
      ],
      "text/plain": [
       "-x**3/6 + x"
      ]
     },
     "metadata": {},
     "output_type": "display_data"
    }
   ],
   "source": [
    "#paquetes\n",
    "import numpy as np\n",
    "import sympy as sy\n",
    "import matplotlib.pyplot as plt\n",
    "\n",
    "#declarar variables\n",
    "x,y,z=sy.symbols('x y z')\n",
    "#x=sy.symbol('x', real=True)\n",
    "\n",
    "#declarar funcion\n",
    "f=sy.sin(x)\n",
    "#sy.series da la serie de taylor de f\n",
    "g=sy.series(f,x,0,5)\n",
    "#funcion, variable,alrededor de que punto,orden final\n",
    "#obtener la O\n",
    "order=g.getO()\n",
    "#remover la O\n",
    "gx=g.removeO()\n",
    "\n",
    "#Prints\n",
    "print('Funcion:')\n",
    "display(f)\n",
    "print ('Serie de Taylor:')\n",
    "display(g)\n",
    "print('Pura O')\n",
    "display(order)\n",
    "print ('Funcion sin O')\n",
    "display(gx)"
   ]
  },
  {
   "cell_type": "code",
   "execution_count": 70,
   "id": "heated-freeware",
   "metadata": {},
   "outputs": [
    {
     "data": {
      "text/plain": [
       "9"
      ]
     },
     "execution_count": 70,
     "metadata": {},
     "output_type": "execute_result"
    }
   ],
   "source": [
    "import sympy as sy\n",
    "#lambdify convierte expresiones simbolicas a funciones\n",
    "func=sy.lambdify(x,sy.exp(x))\n",
    "funcsq=sy.lambdify(x,x**2)\n",
    "funcsq(3)"
   ]
  },
  {
   "cell_type": "code",
   "execution_count": 76,
   "id": "infrared-horizontal",
   "metadata": {},
   "outputs": [
    {
     "name": "stdout",
     "output_type": "stream",
     "text": [
      "Valor de f evaluada en 0\n"
     ]
    },
    {
     "data": {
      "text/plain": [
       "0.0"
      ]
     },
     "metadata": {},
     "output_type": "display_data"
    },
    {
     "name": "stdout",
     "output_type": "stream",
     "text": [
      "Serie de Taylor de f evaluada en 5\n"
     ]
    },
    {
     "data": {
      "text/plain": [
       "-15.833333333333332"
      ]
     },
     "metadata": {},
     "output_type": "display_data"
    }
   ],
   "source": [
    "ffunc=sy.lambdify(x,f)\n",
    "gfunc=sy.lambdify(x,g.removeO())\n",
    "#lambdify no funciona con el error, por ello es necesario quitarlo\n",
    "print('Valor de f evaluada en 0')\n",
    "display(ffunc(0))\n",
    "print ('Serie de Taylor de f evaluada en 5')\n",
    "display(gfunc(5))"
   ]
  },
  {
   "cell_type": "code",
   "execution_count": 78,
   "id": "infinite-ensemble",
   "metadata": {},
   "outputs": [
    {
     "data": {
      "image/png": "[encoded data removed]",
      "text/plain": [
       "<Figure size 432x288 with 1 Axes>"
      ]
     },
     "metadata": {
      "needs_background": "light"
     },
     "output_type": "display_data"
    }
   ],
   "source": [
    "#Graficar las funciones\n",
    "X=np.linspace(-3,3)\n",
    "Yf=ffunc(X)\n",
    "Yg=gfunc(X)\n",
    "fig,ax=plt.subplots()\n",
    "ax.set_xlabel('x')\n",
    "ax.set_ylabel('y')\n",
    "plt.plot(X,Yf)\n",
    "plt.plot(X,Yg)\n",
    "plt.legend(['Funcion f','S-T de f'])\n",
    "plt.show()"
   ]
  },
  {
   "cell_type": "code",
   "execution_count": 79,
   "id": "genetic-cabin",
   "metadata": {},
   "outputs": [
    {
     "data": {
      "image/png": "[encoded data removed]",
      "text/plain": [
       "<Figure size 432x288 with 1 Axes>"
      ]
     },
     "metadata": {
      "needs_background": "light"
     },
     "output_type": "display_data"
    }
   ],
   "source": [
    "Yerr=np.abs(Yf-Yg)\n",
    "Yord=X**3\n",
    "plt.plot(X,Yerr)\n",
    "plt.plot(X,Yord)\n",
    "plt.legend(['error','orden'])\n",
    "plt.show()"
   ]
  },
  {
   "cell_type": "code",
   "execution_count": null,
   "id": "floating-bandwidth",
   "metadata": {},
   "outputs": [],
   "source": []
  }
 ],
 "metadata": {
  "kernelspec": {
   "display_name": "Python 3",
   "language": "python",
   "name": "python3"
  },
  "language_info": {
   "codemirror_mode": {
    "name": "ipython",
    "version": 3
   },
   "file_extension": ".py",
   "mimetype": "text/x-python",
   "name": "python",
   "nbconvert_exporter": "python",
   "pygments_lexer": "ipython3",
   "version": "3.9.2"
  }
 },
 "nbformat": 4,
 "nbformat_minor": 5
}
