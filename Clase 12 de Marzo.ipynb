{
 "cells": [
  {
   "cell_type": "code",
   "execution_count": 7,
   "id": "dominant-hanging",
   "metadata": {},
   "outputs": [
    {
     "name": "stdout",
     "output_type": "stream",
     "text": [
      "\n",
      "Matriz A\n",
      "[[ 4 10 12 11]\n",
      " [10 14  3 16]\n",
      " [12  6  1  2]\n",
      " [ 5  4 18  7]]\n",
      "Triangular Inferior\t\tTriangular Superior\n",
      "1\t0\t0\t0\t\t4\t10\t12\t11\t\n",
      "2\t1\t0\t0\t\t0\t-6\t-21\t-6\t\n",
      "3\t4\t1\t0\t\t0\t0\t49\t-7\t\n",
      "1\t1\t0\t1\t\t0\t0\t0\t2\t\n"
     ]
    }
   ],
   "source": [
    "#dolittle factorixation\n",
    "import sympy as sy\n",
    "import numpy as np\n",
    "import matplotlib.pyplot as plt\n",
    "\n",
    "def lu(A, n):\n",
    " #funcion para descomponer inferior\n",
    "    inf = [[0 for x in range(n)]\n",
    "             for y in range(n)]\n",
    "    #para descomponer superior\n",
    "    sup = [[0 for x in range(n)]\n",
    "             for y in range(n)]\n",
    " \n",
    "    # Descomposicion\n",
    "    for i in range(n):\n",
    " \n",
    "        #Triangular Superior\n",
    "        for k in range(i, n):\n",
    " \n",
    "            # Suma L(i, j) * U(j, k)\n",
    "            sum = 0\n",
    "            for j in range(i):\n",
    "                sum += (inf[i][j] * sup[j][k])\n",
    " \n",
    "            # Evaluacion U(i, k)\n",
    "            sup[i][k] = A[i][k] - sum\n",
    " \n",
    "        # Triangular inferior\n",
    "        for k in range(i, n):\n",
    "            if (i == k):\n",
    "                inf[i][i] = 1  # Diagonal as 1\n",
    "            else:\n",
    " \n",
    "                # Suma L(k, j) * U(j, i)\n",
    "                sum = 0\n",
    "                for j in range(i):\n",
    "                    sum += (inf[k][j] * sup[j][i])\n",
    " \n",
    "                # Evaluacion L(k, i)\n",
    "                inf[k][i] = int((A[k][i] - sum) /\n",
    "                                  sup[i][i])\n",
    " \n",
    "    #Print\n",
    "    print(\"Triangular Inferior\\t\\tTriangular Superior\")\n",
    " \n",
    "    # Display :\n",
    "    for i in range(n):\n",
    " \n",
    "        # Inferior\n",
    "        for j in range(n):\n",
    "            print(inf[i][j], end=\"\\t\")\n",
    "        print(\"\", end=\"\\t\")\n",
    " \n",
    "        # Superior\n",
    "        for j in range(n):\n",
    "            print(sup[i][j], end=\"\\t\")\n",
    "        print(\"\")\n",
    "\n",
    "A=np.random.randint(20,size=(4,4))\n",
    "print('\\nMatriz A')\n",
    "print(A)\n",
    " \n",
    "lu(A, 4)"
   ]
  },
  {
   "cell_type": "code",
   "execution_count": null,
   "id": "emotional-anthony",
   "metadata": {},
   "outputs": [],
   "source": []
  }
 ],
 "metadata": {
  "kernelspec": {
   "display_name": "Python 3",
   "language": "python",
   "name": "python3"
  },
  "language_info": {
   "codemirror_mode": {
    "name": "ipython",
    "version": 3
   },
   "file_extension": ".py",
   "mimetype": "text/x-python",
   "name": "python",
   "nbconvert_exporter": "python",
   "pygments_lexer": "ipython3",
   "version": "3.9.2"
  }
 },
 "nbformat": 4,
 "nbformat_minor": 5
}
